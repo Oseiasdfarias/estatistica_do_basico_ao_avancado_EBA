{
 "cells": [
  {
   "cell_type": "markdown",
   "metadata": {},
   "source": [
    "# **Estatística do Básico ao Avançado (EBA)**\n",
    "\n",
    "## **Desafio Ifood - Estatística Descritiva**\n",
    "\n",
    "O conjunto de dados é composto por clientes da empresa Ifood com dados sobre:\n",
    "\n",
    "- Perfis de clientes\n",
    "- Preferências do produto\n",
    "- Sucessos/fracassos da campanha\n",
    "- Desempenho do canal\n"
   ]
  },
  {
   "cell_type": "markdown",
   "metadata": {},
   "source": [
    "#### **Objetivo**\n",
    "\n",
    "O objetivo de hoje é fazer uma análise exploratória desses dados. Responda usando a sua ferramenta de preferência:\n",
    "\n",
    "- Quantos dados temos? Linhas e colunas \n",
    "- Quais são as colunas numéricas?\n",
    "- Temos duplicados na nossa base? Se tivermos, retire-os \n",
    "- Temos dados nulos nessa base? Será que eles indicam algo? O que fazer com eles? \n",
    "- Qual é a média, mediana, 25 percentil, 75 percentil, mínimo e máximo de cada uma das colunas numéricas? "
   ]
  },
  {
   "cell_type": "code",
   "execution_count": null,
   "metadata": {},
   "outputs": [],
   "source": []
  },
  {
   "cell_type": "markdown",
   "metadata": {},
   "source": [
    "***Vamos agora entender o perfil de clientes que temos***"
   ]
  },
  {
   "cell_type": "markdown",
   "metadata": {},
   "source": [
    "- Qual é o maior salário encontrado na nossa base? Veja na coluna Income\n",
    "- Qual é a distribuição de salário na nossa base? Temos clientes que ganham muito bem e outros que não ganham muito bem? Veja na coluna Income\n",
    "- Nossos clientes tem níveis de educação maiores ou menores? Veja na coluna education_level\n",
    "- Quantos clientes temos em cada estado civil? Veja na coluna marital_status"
   ]
  },
  {
   "cell_type": "code",
   "execution_count": null,
   "metadata": {},
   "outputs": [],
   "source": []
  },
  {
   "cell_type": "markdown",
   "metadata": {},
   "source": [
    "***Agora vamos ver como os dados se correlacionam***"
   ]
  },
  {
   "cell_type": "markdown",
   "metadata": {},
   "source": [
    "- Qual é a relação de estado civil com número de filhos? Será que as pessoas casadas têm um maior número de filhos? Filhos está na coluna kids\n",
    "- As pessoas gastam mais ou menos em nossa plataforma quando têm filhos? Veja nas colunas expenses e kids\n",
    "- Pessoas que têm um maior salário gastam mais? Veja nas colunas Income e expenses\n"
   ]
  },
  {
   "cell_type": "code",
   "execution_count": null,
   "metadata": {},
   "outputs": [],
   "source": []
  },
  {
   "cell_type": "markdown",
   "metadata": {},
   "source": [
    "***Vá além!***\n",
    "\n",
    "- O que você faria com as informações que tirou das perguntas acima?\n",
    "- Trace um problema de negócios e faça quantas perguntas forem necessárias para respondê-la. ​\n",
    "\n"
   ]
  },
  {
   "cell_type": "code",
   "execution_count": null,
   "metadata": {},
   "outputs": [],
   "source": []
  }
 ],
 "metadata": {
  "kernelspec": {
   "display_name": "Python 3",
   "language": "python",
   "name": "python3"
  },
  "language_info": {
   "name": "python",
   "version": "3.10.12"
  }
 },
 "nbformat": 4,
 "nbformat_minor": 2
}
