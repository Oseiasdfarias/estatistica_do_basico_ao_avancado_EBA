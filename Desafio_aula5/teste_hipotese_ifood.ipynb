{
 "cells": [
  {
   "cell_type": "markdown",
   "metadata": {},
   "source": [
    "# **Desafio Ifood - Parte 2**"
   ]
  },
  {
   "cell_type": "code",
   "execution_count": 1,
   "metadata": {},
   "outputs": [],
   "source": [
    "import pandas as pd\n",
    "from matplotlib import pyplot as plt\n",
    "import seaborn as sns\n",
    "\n",
    "sns.set_style(\"dark\")\n",
    "%matplotlib inline\n",
    "%config InlineBackend.figure_format = \"retina\""
   ]
  },
  {
   "cell_type": "code",
   "execution_count": 2,
   "metadata": {},
   "outputs": [
    {
     "data": {
      "text/html": [
       "<div>\n",
       "<style scoped>\n",
       "    .dataframe tbody tr th:only-of-type {\n",
       "        vertical-align: middle;\n",
       "    }\n",
       "\n",
       "    .dataframe tbody tr th {\n",
       "        vertical-align: top;\n",
       "    }\n",
       "\n",
       "    .dataframe thead th {\n",
       "        text-align: right;\n",
       "    }\n",
       "</style>\n",
       "<table border=\"1\" class=\"dataframe\">\n",
       "  <thead>\n",
       "    <tr style=\"text-align: right;\">\n",
       "      <th></th>\n",
       "      <th>Unnamed: 0</th>\n",
       "      <th>Income</th>\n",
       "      <th>Kidhome</th>\n",
       "      <th>Teenhome</th>\n",
       "      <th>Recency</th>\n",
       "      <th>MntWines</th>\n",
       "      <th>MntFruits</th>\n",
       "      <th>MntMeatProducts</th>\n",
       "      <th>MntFishProducts</th>\n",
       "      <th>MntSweetProducts</th>\n",
       "      <th>...</th>\n",
       "      <th>education_Graduation</th>\n",
       "      <th>education_Master</th>\n",
       "      <th>education_PhD</th>\n",
       "      <th>MntTotal</th>\n",
       "      <th>MntRegularProds</th>\n",
       "      <th>AcceptedCmpOverall</th>\n",
       "      <th>marital_status</th>\n",
       "      <th>education_level</th>\n",
       "      <th>kids</th>\n",
       "      <th>expenses</th>\n",
       "    </tr>\n",
       "  </thead>\n",
       "  <tbody>\n",
       "    <tr>\n",
       "      <th>0</th>\n",
       "      <td>0</td>\n",
       "      <td>58138.0</td>\n",
       "      <td>0</td>\n",
       "      <td>0</td>\n",
       "      <td>58</td>\n",
       "      <td>635</td>\n",
       "      <td>88</td>\n",
       "      <td>546</td>\n",
       "      <td>172</td>\n",
       "      <td>88</td>\n",
       "      <td>...</td>\n",
       "      <td>3.0</td>\n",
       "      <td>NaN</td>\n",
       "      <td>NaN</td>\n",
       "      <td>1529</td>\n",
       "      <td>1441</td>\n",
       "      <td>0</td>\n",
       "      <td>Single</td>\n",
       "      <td>Graduation</td>\n",
       "      <td>0</td>\n",
       "      <td>1529</td>\n",
       "    </tr>\n",
       "    <tr>\n",
       "      <th>1</th>\n",
       "      <td>1</td>\n",
       "      <td>46344.0</td>\n",
       "      <td>1</td>\n",
       "      <td>1</td>\n",
       "      <td>38</td>\n",
       "      <td>11</td>\n",
       "      <td>1</td>\n",
       "      <td>6</td>\n",
       "      <td>2</td>\n",
       "      <td>1</td>\n",
       "      <td>...</td>\n",
       "      <td>3.0</td>\n",
       "      <td>NaN</td>\n",
       "      <td>NaN</td>\n",
       "      <td>21</td>\n",
       "      <td>15</td>\n",
       "      <td>0</td>\n",
       "      <td>Single</td>\n",
       "      <td>Graduation</td>\n",
       "      <td>2</td>\n",
       "      <td>21</td>\n",
       "    </tr>\n",
       "    <tr>\n",
       "      <th>2</th>\n",
       "      <td>2</td>\n",
       "      <td>71613.0</td>\n",
       "      <td>0</td>\n",
       "      <td>0</td>\n",
       "      <td>26</td>\n",
       "      <td>426</td>\n",
       "      <td>49</td>\n",
       "      <td>127</td>\n",
       "      <td>111</td>\n",
       "      <td>21</td>\n",
       "      <td>...</td>\n",
       "      <td>3.0</td>\n",
       "      <td>NaN</td>\n",
       "      <td>NaN</td>\n",
       "      <td>734</td>\n",
       "      <td>692</td>\n",
       "      <td>0</td>\n",
       "      <td>Together</td>\n",
       "      <td>Graduation</td>\n",
       "      <td>0</td>\n",
       "      <td>734</td>\n",
       "    </tr>\n",
       "    <tr>\n",
       "      <th>3</th>\n",
       "      <td>3</td>\n",
       "      <td>26646.0</td>\n",
       "      <td>1</td>\n",
       "      <td>0</td>\n",
       "      <td>26</td>\n",
       "      <td>11</td>\n",
       "      <td>4</td>\n",
       "      <td>20</td>\n",
       "      <td>10</td>\n",
       "      <td>3</td>\n",
       "      <td>...</td>\n",
       "      <td>3.0</td>\n",
       "      <td>NaN</td>\n",
       "      <td>NaN</td>\n",
       "      <td>48</td>\n",
       "      <td>43</td>\n",
       "      <td>0</td>\n",
       "      <td>Together</td>\n",
       "      <td>Graduation</td>\n",
       "      <td>1</td>\n",
       "      <td>48</td>\n",
       "    </tr>\n",
       "    <tr>\n",
       "      <th>4</th>\n",
       "      <td>4</td>\n",
       "      <td>58293.0</td>\n",
       "      <td>1</td>\n",
       "      <td>0</td>\n",
       "      <td>94</td>\n",
       "      <td>173</td>\n",
       "      <td>43</td>\n",
       "      <td>118</td>\n",
       "      <td>46</td>\n",
       "      <td>27</td>\n",
       "      <td>...</td>\n",
       "      <td>NaN</td>\n",
       "      <td>NaN</td>\n",
       "      <td>5.0</td>\n",
       "      <td>407</td>\n",
       "      <td>392</td>\n",
       "      <td>0</td>\n",
       "      <td>Married</td>\n",
       "      <td>PhD</td>\n",
       "      <td>1</td>\n",
       "      <td>407</td>\n",
       "    </tr>\n",
       "  </tbody>\n",
       "</table>\n",
       "<p>5 rows × 44 columns</p>\n",
       "</div>"
      ],
      "text/plain": [
       "   Unnamed: 0   Income  Kidhome  Teenhome  Recency  MntWines  MntFruits   \n",
       "0           0  58138.0        0         0       58       635         88  \\\n",
       "1           1  46344.0        1         1       38        11          1   \n",
       "2           2  71613.0        0         0       26       426         49   \n",
       "3           3  26646.0        1         0       26        11          4   \n",
       "4           4  58293.0        1         0       94       173         43   \n",
       "\n",
       "   MntMeatProducts  MntFishProducts  MntSweetProducts  ...   \n",
       "0              546              172                88  ...  \\\n",
       "1                6                2                 1  ...   \n",
       "2              127              111                21  ...   \n",
       "3               20               10                 3  ...   \n",
       "4              118               46                27  ...   \n",
       "\n",
       "   education_Graduation  education_Master  education_PhD  MntTotal   \n",
       "0                   3.0               NaN            NaN      1529  \\\n",
       "1                   3.0               NaN            NaN        21   \n",
       "2                   3.0               NaN            NaN       734   \n",
       "3                   3.0               NaN            NaN        48   \n",
       "4                   NaN               NaN            5.0       407   \n",
       "\n",
       "   MntRegularProds  AcceptedCmpOverall  marital_status  education_level  kids   \n",
       "0             1441                   0          Single       Graduation     0  \\\n",
       "1               15                   0          Single       Graduation     2   \n",
       "2              692                   0        Together       Graduation     0   \n",
       "3               43                   0        Together       Graduation     1   \n",
       "4              392                   0         Married              PhD     1   \n",
       "\n",
       "   expenses  \n",
       "0      1529  \n",
       "1        21  \n",
       "2       734  \n",
       "3        48  \n",
       "4       407  \n",
       "\n",
       "[5 rows x 44 columns]"
      ]
     },
     "execution_count": 2,
     "metadata": {},
     "output_type": "execute_result"
    }
   ],
   "source": [
    "df_ifood = pd.read_csv(\"./mkt_data.csv\")\n",
    "df_ifood.head()"
   ]
  },
  {
   "cell_type": "code",
   "execution_count": 3,
   "metadata": {},
   "outputs": [
    {
     "data": {
      "text/plain": [
       "0       0\n",
       "1       1\n",
       "2       0\n",
       "3       1\n",
       "4       1\n",
       "       ..\n",
       "2200    1\n",
       "2201    1\n",
       "2202    0\n",
       "2203    1\n",
       "2204    1\n",
       "Name: kids_1, Length: 2205, dtype: int64"
      ]
     },
     "execution_count": 3,
     "metadata": {},
     "output_type": "execute_result"
    }
   ],
   "source": [
    "df_ifood[\"kids_1\"] = df_ifood.kids.apply(lambda x: 0 if x == 0 else 1)\n",
    "df_ifood.kids_1"
   ]
  },
  {
   "cell_type": "code",
   "execution_count": 4,
   "metadata": {},
   "outputs": [
    {
     "data": {
      "text/plain": [
       "kids_1\n",
       "1    1577\n",
       "0     628\n",
       "Name: count, dtype: int64"
      ]
     },
     "execution_count": 4,
     "metadata": {},
     "output_type": "execute_result"
    }
   ],
   "source": [
    "df_ifood.kids_1.value_counts()"
   ]
  },
  {
   "cell_type": "code",
   "execution_count": 5,
   "metadata": {},
   "outputs": [
    {
     "data": {
      "image/png": "[encoded data removed]",
      "text/plain": [
       "<Figure size 600x400 with 1 Axes>"
      ]
     },
     "metadata": {
      "image/png": {
       "height": 371,
       "width": 549
      }
     },
     "output_type": "display_data"
    }
   ],
   "source": [
    "plt.figure(figsize=(6, 4))\n",
    "sns.boxplot(data=df_ifood, x=\"kids_1\", y=\"expenses\")\n",
    "plt.show()"
   ]
  },
  {
   "cell_type": "markdown",
   "metadata": {},
   "source": [
    "#### Obtendo a variância da coluna `expenses`"
   ]
  },
  {
   "cell_type": "code",
   "execution_count": 6,
   "metadata": {},
   "outputs": [
    {
     "data": {
      "text/plain": [
       "kids_1\n",
       "0    391544.158037\n",
       "1    180568.557933\n",
       "Name: expenses, dtype: float64"
      ]
     },
     "execution_count": 6,
     "metadata": {},
     "output_type": "execute_result"
    }
   ],
   "source": [
    "df_ifood.groupby(\"kids_1\").expenses.var()"
   ]
  },
  {
   "cell_type": "markdown",
   "metadata": {},
   "source": [
    "### ***Aplicando o teste de Hipôtese***\n",
    "\n",
    "Para usar o teste `t` comparando a média de `espenses (despesas)` para famílias com ou sem crianças precisamos antes de mais nada descobrir se as variâncias são igauis ou diferentes, pois temos testes `t` diferentes para cada caso.\n",
    "\n",
    "\n",
    "Para esse tipo de dado, vamos usar o teste `F` para verificar se as variâncias são iguais ou diferentes, para isso é necessário realizar o pré-processamento dos dados, separando em duas séries pandas. Após esse processo, iremos usar o módulo  `scipy.stats` que implementa o teste `F`."
   ]
  },
  {
   "cell_type": "code",
   "execution_count": 7,
   "metadata": {},
   "outputs": [
    {
     "data": {
      "text/plain": [
       "1.1102230246251565e-16"
      ]
     },
     "execution_count": 7,
     "metadata": {},
     "output_type": "execute_result"
    }
   ],
   "source": [
    "from scipy import stats\n",
    "\n",
    "# Série com o gasto de família com crianças\n",
    "espenses_com_criancas = df_ifood[df_ifood.kids_1 == 1].expenses\n",
    "\n",
    "# Série com o gasto de família sem crianças\n",
    "espenses_sem_criancas = df_ifood[df_ifood.kids_1 == 0].expenses\n",
    "\n",
    "grau_liberdade_cc = espenses_com_criancas.size - 1  # Grau de liberdade da primeira amostra\n",
    "grau_liberdade_sc = espenses_sem_criancas.size - 1  # Grau de liberdade da segunda amostra\n",
    "\n",
    "F = espenses_sem_criancas.var() / espenses_com_criancas.var() # obs: A maior variância tem que ir no numerador!\n",
    "\n",
    "alpha = 0.05\n",
    "\n",
    "# p-valor para o teste F\n",
    "1 - stats.f.cdf(F, grau_liberdade_sc, grau_liberdade_cc)\n"
   ]
  },
  {
   "cell_type": "markdown",
   "metadata": {},
   "source": [
    "Como o p-valor é muito menor que a significância adotada de `0.05`, dizemos que as variâncias são diferentes."
   ]
  },
  {
   "cell_type": "markdown",
   "metadata": {},
   "source": [
    "#### ***Aplicando o teste `t`***\n",
    "\n",
    "Por não possuirmos o desvio-padrão populacional das amostras, mas possuirmos a média e desvio-padrão amostral e temos amostras com mais de 20 dados, podemos usar o teste t para amostras independentes para avaliarmos se as médias são significativamente diferentes."
   ]
  },
  {
   "cell_type": "code",
   "execution_count": 8,
   "metadata": {},
   "outputs": [
    {
     "data": {
      "text/plain": [
       "Ttest_indResult(statistic=-28.902593571564687, pvalue=5.171525024868465e-156)"
      ]
     },
     "execution_count": 8,
     "metadata": {},
     "output_type": "execute_result"
    }
   ],
   "source": [
    "stats.ttest_ind(espenses_com_criancas, espenses_sem_criancas)"
   ]
  },
  {
   "cell_type": "markdown",
   "metadata": {},
   "source": [
    "> *O p-valor é muito menor que alpha(0,05). Logo, **rejeitamos** a hipótese nula. Ou seja, há evidências suficiente, ao nível de significância de 5%, para a afirmação de que as médias de despesas (espenses) são estatísticamente diferentes.*"
   ]
  },
  {
   "cell_type": "code",
   "execution_count": 9,
   "metadata": {},
   "outputs": [
    {
     "name": "stdout",
     "output_type": "stream",
     "text": [
      "\n",
      "Média expenses com filhos: 372.24\n",
      "Média expenses sem filhos: 1041.21\n",
      "\n"
     ]
    }
   ],
   "source": [
    "# obtendo as médias para cada grupo de famílio com e sem filhos\n",
    "print(f\"\\nMédia expenses com filhos: {espenses_com_criancas.mean():.2f}\")\n",
    "print(f\"Média expenses sem filhos: {espenses_sem_criancas.mean():.2f}\\n\")"
   ]
  },
  {
   "cell_type": "markdown",
   "metadata": {},
   "source": [
    "> ***Portanto, podemos observar que a média de despesas de família sem filhos é maior comparado com família com filhos***"
   ]
  },
  {
   "cell_type": "markdown",
   "metadata": {},
   "source": [
    "### **Comparando os grupos de pessoas com filhos**"
   ]
  },
  {
   "cell_type": "markdown",
   "metadata": {},
   "source": [
    "O time de marketing nos pediu para verificar se há diferenças de gastos (expenses) em quem tem 1, 2, 3 ou mais filhos para que eles possam afunilar mais ainda a campanha. A média desses grupos é diferente? Qual(is) tem menor média?"
   ]
  },
  {
   "cell_type": "code",
   "execution_count": 10,
   "metadata": {},
   "outputs": [
    {
     "data": {
      "text/plain": [
       "kids\n",
       "1    434.530576\n",
       "2    221.568675\n",
       "3    237.380000\n",
       "Name: expenses, dtype: float64"
      ]
     },
     "execution_count": 10,
     "metadata": {},
     "output_type": "execute_result"
    }
   ],
   "source": [
    "subgrupo_cf = df_ifood[df_ifood.kids != 0]\n",
    "subgrupo_cf.groupby(\"kids\").expenses.mean()"
   ]
  },
  {
   "cell_type": "code",
   "execution_count": 11,
   "metadata": {},
   "outputs": [
    {
     "data": {
      "image/png": "[encoded data removed]",
      "text/plain": [
       "<Figure size 600x400 with 1 Axes>"
      ]
     },
     "metadata": {
      "image/png": {
       "height": 371,
       "width": 549
      }
     },
     "output_type": "display_data"
    }
   ],
   "source": [
    "plt.figure(figsize=(6, 4))\n",
    "sns.boxplot(data=subgrupo_cf, x=\"kids\", y=\"expenses\",\n",
    "            hue=\"kids\",\n",
    "            palette=sns.color_palette(\"hls\", 3))\n",
    "\n",
    "plt.show()"
   ]
  },
  {
   "cell_type": "markdown",
   "metadata": {},
   "source": [
    "As premissas para usarmos `ANOVA 1 fator` são:\n",
    "\n",
    "* Amostras aleatórias ***(OK)***\n",
    "* Grupos independentes ***(OK)***\n",
    "* A variável dependente é contínua ***(OK)***\n",
    "* Amostras tem pelo menos n = 15 cada ***(OK)***\n",
    "* Variancias populacionais em cada grupo é igual  ***(Verificar)***\n",
    "\n",
    "H0: Todas as médias do grupo são iguais.\n",
    "\n",
    "Ha: Nem todas as médias do grupo são iguais."
   ]
  },
  {
   "cell_type": "code",
   "execution_count": 12,
   "metadata": {},
   "outputs": [],
   "source": [
    "expenses_com_1f = df_ifood[df_ifood.kids == 1].expenses.dropna()\n",
    "expenses_com_2f = df_ifood[df_ifood.kids == 2].expenses.dropna()\n",
    "expenses_com_3f = df_ifood[df_ifood.kids == 3].expenses.dropna()"
   ]
  },
  {
   "cell_type": "code",
   "execution_count": 13,
   "metadata": {},
   "outputs": [
    {
     "data": {
      "text/plain": [
       "BartlettResult(statistic=102.21719770243517, pvalue=6.365280420300725e-23)"
      ]
     },
     "execution_count": 13,
     "metadata": {},
     "output_type": "execute_result"
    }
   ],
   "source": [
    "import scipy.stats as stats\n",
    "\n",
    "stats.bartlett(expenses_com_1f, expenses_com_2f, expenses_com_3f)"
   ]
  },
  {
   "cell_type": "markdown",
   "metadata": {},
   "source": [
    "Temos que o p-valor é menor que alpha (0,05), dessa forma, conclui-se que as amostras não possuiem a mesma variância, Portanto, não podemos usar a `ANOVA 1 fator`, no entanto, pode-se usar uma mariante chamada ANOVA de Welch."
   ]
  },
  {
   "cell_type": "code",
   "execution_count": 14,
   "metadata": {},
   "outputs": [
    {
     "data": {
      "text/html": [
       "<div>\n",
       "<style scoped>\n",
       "    .dataframe tbody tr th:only-of-type {\n",
       "        vertical-align: middle;\n",
       "    }\n",
       "\n",
       "    .dataframe tbody tr th {\n",
       "        vertical-align: top;\n",
       "    }\n",
       "\n",
       "    .dataframe thead th {\n",
       "        text-align: right;\n",
       "    }\n",
       "</style>\n",
       "<table border=\"1\" class=\"dataframe\">\n",
       "  <thead>\n",
       "    <tr style=\"text-align: right;\">\n",
       "      <th></th>\n",
       "      <th>Source</th>\n",
       "      <th>ddof1</th>\n",
       "      <th>ddof2</th>\n",
       "      <th>F</th>\n",
       "      <th>p-unc</th>\n",
       "      <th>np2</th>\n",
       "    </tr>\n",
       "  </thead>\n",
       "  <tbody>\n",
       "    <tr>\n",
       "      <th>0</th>\n",
       "      <td>kids</td>\n",
       "      <td>2</td>\n",
       "      <td>132.724442</td>\n",
       "      <td>59.721904</td>\n",
       "      <td>3.178541e-19</td>\n",
       "      <td>0.051464</td>\n",
       "    </tr>\n",
       "  </tbody>\n",
       "</table>\n",
       "</div>"
      ],
      "text/plain": [
       "  Source  ddof1       ddof2          F         p-unc       np2\n",
       "0   kids      2  132.724442  59.721904  3.178541e-19  0.051464"
      ]
     },
     "execution_count": 14,
     "metadata": {},
     "output_type": "execute_result"
    }
   ],
   "source": [
    "import pingouin as pg\n",
    "\n",
    "df_com_filhos = df_ifood[df_ifood.kids != 0]\n",
    "\n",
    "pg.welch_anova(dv=\"expenses\", between=\"kids\", data=df_com_filhos)"
   ]
  },
  {
   "cell_type": "markdown",
   "metadata": {},
   "source": [
    "Analisando o resultado temos que o p-valor é menor do que alpha (0.05), portanto, rejeitamos H0 e concluimos que a 95% de confiança, todas as médias não são iguais."
   ]
  },
  {
   "cell_type": "markdown",
   "metadata": {},
   "source": [
    "Agora, vamos usar um teste post hoc para descobrir qual dos pares não são iguais. Lembrando que esses dados violam a aproximação de dados para normalidade e as amostras não tem variancias iguais. Não podemos usar Tukey nesse caso."
   ]
  },
  {
   "cell_type": "code",
   "execution_count": 15,
   "metadata": {},
   "outputs": [
    {
     "data": {
      "text/html": [
       "<div>\n",
       "<style scoped>\n",
       "    .dataframe tbody tr th:only-of-type {\n",
       "        vertical-align: middle;\n",
       "    }\n",
       "\n",
       "    .dataframe tbody tr th {\n",
       "        vertical-align: top;\n",
       "    }\n",
       "\n",
       "    .dataframe thead th {\n",
       "        text-align: right;\n",
       "    }\n",
       "</style>\n",
       "<table border=\"1\" class=\"dataframe\">\n",
       "  <thead>\n",
       "    <tr style=\"text-align: right;\">\n",
       "      <th></th>\n",
       "      <th>A</th>\n",
       "      <th>B</th>\n",
       "      <th>mean(A)</th>\n",
       "      <th>mean(B)</th>\n",
       "      <th>diff</th>\n",
       "      <th>se</th>\n",
       "      <th>T</th>\n",
       "      <th>df</th>\n",
       "      <th>pval</th>\n",
       "      <th>hedges</th>\n",
       "    </tr>\n",
       "  </thead>\n",
       "  <tbody>\n",
       "    <tr>\n",
       "      <th>0</th>\n",
       "      <td>1</td>\n",
       "      <td>2</td>\n",
       "      <td>434.530576</td>\n",
       "      <td>221.568675</td>\n",
       "      <td>212.961901</td>\n",
       "      <td>19.678256</td>\n",
       "      <td>10.822194</td>\n",
       "      <td>1152.588538</td>\n",
       "      <td>2.596812e-13</td>\n",
       "      <td>0.513077</td>\n",
       "    </tr>\n",
       "    <tr>\n",
       "      <th>1</th>\n",
       "      <td>1</td>\n",
       "      <td>3</td>\n",
       "      <td>434.530576</td>\n",
       "      <td>237.380000</td>\n",
       "      <td>197.150576</td>\n",
       "      <td>56.823741</td>\n",
       "      <td>3.469511</td>\n",
       "      <td>55.099957</td>\n",
       "      <td>2.888048e-03</td>\n",
       "      <td>0.437688</td>\n",
       "    </tr>\n",
       "    <tr>\n",
       "      <th>2</th>\n",
       "      <td>2</td>\n",
       "      <td>3</td>\n",
       "      <td>221.568675</td>\n",
       "      <td>237.380000</td>\n",
       "      <td>-15.811325</td>\n",
       "      <td>56.988869</td>\n",
       "      <td>-0.277446</td>\n",
       "      <td>55.722906</td>\n",
       "      <td>9.584865e-01</td>\n",
       "      <td>-0.052201</td>\n",
       "    </tr>\n",
       "  </tbody>\n",
       "</table>\n",
       "</div>"
      ],
      "text/plain": [
       "   A  B     mean(A)     mean(B)        diff         se          T   \n",
       "0  1  2  434.530576  221.568675  212.961901  19.678256  10.822194  \\\n",
       "1  1  3  434.530576  237.380000  197.150576  56.823741   3.469511   \n",
       "2  2  3  221.568675  237.380000  -15.811325  56.988869  -0.277446   \n",
       "\n",
       "            df          pval    hedges  \n",
       "0  1152.588538  2.596812e-13  0.513077  \n",
       "1    55.099957  2.888048e-03  0.437688  \n",
       "2    55.722906  9.584865e-01 -0.052201  "
      ]
     },
     "execution_count": 15,
     "metadata": {},
     "output_type": "execute_result"
    }
   ],
   "source": [
    "pg.pairwise_gameshowell(dv=\"expenses\", between=\"kids\", data=df_com_filhos)"
   ]
  },
  {
   "cell_type": "markdown",
   "metadata": {},
   "source": [
    "Apenas quando p-valor for maior do que 5e-02 aceitamos H0 (médias iguais). Logo, todas as médias são consideradas diferentes, exceto a 2-3.\n",
    "\n",
    "Portanto, caso a equipe queira se focar na amostra com menor média, eles poderão focar tanto no grupo 2 quanto no 3.\n",
    "\n",
    "Um adendo importante que também devemos levar para o time de marketing é o volume de pessoas do grupo com 2 ou 3 filhos no campo de abrangência da campanha (Brasil, por exemplo). A quantidade de pessoas que tem 2 ou 3 filhos deve ser levada em conta também para entender nosso share em cada um desses mercados e entender qual deles teríamos maior gap"
   ]
  },
  {
   "cell_type": "markdown",
   "metadata": {},
   "source": [
    "Portanto, rejeitamos a hipótese nula para as diferenças 1-2 e 1-3. Ou seja, há diferenças estatísticas entre esses grupos, o que nesse caso nos mostra que o 1 é diferente de 2 e 3 (olhando a média, de fato é bastante maior) e a amostra 2 e 3 são estatisticamente iguais.\n",
    "\n",
    "Portanto, caso a equipe queira se focar na amostra com menor média, eles poderão focar tanto no grupo 2 quanto no 3.\n",
    "\n",
    "Um adendo importante que também devemos levar para o time de marketing é o volume de pessoas do grupo com 2 ou 3 filhos no campo de abrangência da campanha (Brasil, por exemplo). A quantidade de pessoas que tem 2 ou 3 filhos deve ser levada em conta também para entender nosso share em cada um desses mercados e entender qual deles teríamos maior gap"
   ]
  }
 ],
 "metadata": {
  "kernelspec": {
   "display_name": "Python 3",
   "language": "python",
   "name": "python3"
  },
  "language_info": {
   "codemirror_mode": {
    "name": "ipython",
    "version": 3
   },
   "file_extension": ".py",
   "mimetype": "text/x-python",
   "name": "python",
   "nbconvert_exporter": "python",
   "pygments_lexer": "ipython3",
   "version": "3.10.12"
  }
 },
 "nbformat": 4,
 "nbformat_minor": 2
}
