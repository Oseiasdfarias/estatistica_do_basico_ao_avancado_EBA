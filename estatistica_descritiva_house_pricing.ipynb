{
 "cells": [
  {
   "cell_type": "markdown",
   "metadata": {},
   "source": [
    "# **Estatistica Descritiva**\n",
    "\n",
    "## Análise preços de casa"
   ]
  },
  {
   "cell_type": "markdown",
   "metadata": {},
   "source": [
    "**Importando as bibliotecas usadas**"
   ]
  },
  {
   "cell_type": "code",
   "execution_count": 1,
   "metadata": {},
   "outputs": [],
   "source": [
    "import pandas as pd\n",
    "import seaborn as sns\n",
    "import numpy as np\n",
    "from matplotlib import pyplot as plt\n",
    "\n",
    "%matplotlib inline"
   ]
  },
  {
   "cell_type": "markdown",
   "metadata": {},
   "source": [
    "**Carregando dataset House Pricing**"
   ]
  },
  {
   "cell_type": "code",
   "execution_count": 2,
   "metadata": {},
   "outputs": [],
   "source": [
    "df_house_pricing = pd.read_csv(\"datasets/house_price.csv\")"
   ]
  },
  {
   "cell_type": "code",
   "execution_count": 4,
   "metadata": {},
   "outputs": [
    {
     "data": {
      "text/html": [
       "<div>\n",
       "<style scoped>\n",
       "    .dataframe tbody tr th:only-of-type {\n",
       "        vertical-align: middle;\n",
       "    }\n",
       "\n",
       "    .dataframe tbody tr th {\n",
       "        vertical-align: top;\n",
       "    }\n",
       "\n",
       "    .dataframe thead th {\n",
       "        text-align: right;\n",
       "    }\n",
       "</style>\n",
       "<table border=\"1\" class=\"dataframe\">\n",
       "  <thead>\n",
       "    <tr style=\"text-align: right;\">\n",
       "      <th></th>\n",
       "      <th>Unnamed: 0</th>\n",
       "      <th>SalePrice</th>\n",
       "      <th>OverallQual</th>\n",
       "      <th>OverallCond</th>\n",
       "      <th>BedroomAbvGr</th>\n",
       "      <th>TotRmsAbvGrd</th>\n",
       "      <th>GrLivArea</th>\n",
       "      <th>TotalBsmtSF</th>\n",
       "      <th>YearBuilt</th>\n",
       "      <th>MSZoning</th>\n",
       "      <th>Utilities</th>\n",
       "      <th>BldgType</th>\n",
       "    </tr>\n",
       "  </thead>\n",
       "  <tbody>\n",
       "    <tr>\n",
       "      <th>0</th>\n",
       "      <td>0</td>\n",
       "      <td>208500</td>\n",
       "      <td>7</td>\n",
       "      <td>5</td>\n",
       "      <td>3</td>\n",
       "      <td>8</td>\n",
       "      <td>1710</td>\n",
       "      <td>856</td>\n",
       "      <td>2003</td>\n",
       "      <td>RL</td>\n",
       "      <td>AllPub</td>\n",
       "      <td>1Fam</td>\n",
       "    </tr>\n",
       "    <tr>\n",
       "      <th>1</th>\n",
       "      <td>1</td>\n",
       "      <td>181500</td>\n",
       "      <td>6</td>\n",
       "      <td>8</td>\n",
       "      <td>3</td>\n",
       "      <td>6</td>\n",
       "      <td>1262</td>\n",
       "      <td>1262</td>\n",
       "      <td>1976</td>\n",
       "      <td>RL</td>\n",
       "      <td>AllPub</td>\n",
       "      <td>1Fam</td>\n",
       "    </tr>\n",
       "    <tr>\n",
       "      <th>2</th>\n",
       "      <td>2</td>\n",
       "      <td>223500</td>\n",
       "      <td>7</td>\n",
       "      <td>5</td>\n",
       "      <td>3</td>\n",
       "      <td>6</td>\n",
       "      <td>1786</td>\n",
       "      <td>920</td>\n",
       "      <td>2001</td>\n",
       "      <td>RL</td>\n",
       "      <td>AllPub</td>\n",
       "      <td>1Fam</td>\n",
       "    </tr>\n",
       "    <tr>\n",
       "      <th>3</th>\n",
       "      <td>3</td>\n",
       "      <td>140000</td>\n",
       "      <td>7</td>\n",
       "      <td>5</td>\n",
       "      <td>3</td>\n",
       "      <td>7</td>\n",
       "      <td>1717</td>\n",
       "      <td>756</td>\n",
       "      <td>1915</td>\n",
       "      <td>RL</td>\n",
       "      <td>AllPub</td>\n",
       "      <td>1Fam</td>\n",
       "    </tr>\n",
       "    <tr>\n",
       "      <th>4</th>\n",
       "      <td>4</td>\n",
       "      <td>250000</td>\n",
       "      <td>8</td>\n",
       "      <td>5</td>\n",
       "      <td>4</td>\n",
       "      <td>9</td>\n",
       "      <td>2198</td>\n",
       "      <td>1145</td>\n",
       "      <td>2000</td>\n",
       "      <td>RL</td>\n",
       "      <td>AllPub</td>\n",
       "      <td>1Fam</td>\n",
       "    </tr>\n",
       "  </tbody>\n",
       "</table>\n",
       "</div>"
      ],
      "text/plain": [
       "   Unnamed: 0  SalePrice  OverallQual  OverallCond  BedroomAbvGr   \n",
       "0           0     208500            7            5             3  \\\n",
       "1           1     181500            6            8             3   \n",
       "2           2     223500            7            5             3   \n",
       "3           3     140000            7            5             3   \n",
       "4           4     250000            8            5             4   \n",
       "\n",
       "   TotRmsAbvGrd  GrLivArea  TotalBsmtSF  YearBuilt MSZoning Utilities BldgType  \n",
       "0             8       1710          856       2003       RL    AllPub     1Fam  \n",
       "1             6       1262         1262       1976       RL    AllPub     1Fam  \n",
       "2             6       1786          920       2001       RL    AllPub     1Fam  \n",
       "3             7       1717          756       1915       RL    AllPub     1Fam  \n",
       "4             9       2198         1145       2000       RL    AllPub     1Fam  "
      ]
     },
     "execution_count": 4,
     "metadata": {},
     "output_type": "execute_result"
    }
   ],
   "source": [
    "df_house_pricing.head()"
   ]
  },
  {
   "cell_type": "markdown",
   "metadata": {},
   "source": [
    "### **Descrição dos atribultos do DataFrame**\n",
    "\n",
    "\n",
    "<p>\n",
    "       <ul>\n",
    "              <li>\n",
    "                      <strong>SalePrice:</strong> Preço de venda\n",
    "              </li>\n",
    "              <li>\n",
    "                      <strong>OverallQual:</strong> Avalie o material geral e o acabamento da casa\n",
    "              </li>\n",
    "              <li>\n",
    "                     <strong>OverallCond:</strong> Avalia a condição geral da casa\n",
    "              </li>\n",
    "              <li>\n",
    "                     <strong>BedroomAbvGr:</strong> Quartos acima do nível (NÃO inclui quartos no subsolo)\n",
    "              </li>\n",
    "              <li>\n",
    "                      <strong>TotRmsAbvGrd:</strong> Total de quartos acima da classe  (não inclui banheiros)\n",
    "              </li>\n",
    "              <li>\n",
    "                    <strong>GrLivArea:</strong> Acima do nível (solo) da área de estar em pés quadrados\n",
    "              </li>\n",
    "              <li>\n",
    "                     <strong>TotalBsmtSF:</strong> Total de pés quadrados da área do porão\n",
    "              </li>\n",
    "              <li>\n",
    "                     <strong>YearBuilt:</strong> Data original de construção\n",
    "              </li>\n",
    "              <li>\n",
    "                     <strong>MSZoning</strong> - Identifica a classificação geral de zoneamento da venda\n",
    "                     <ul>\n",
    "                            <li>\n",
    "                                   <strong>A</strong>    Agriculture (Agricultura)\n",
    "                             </li>\n",
    "                             <li>\n",
    "                                   <strong>C</strong>    Commercial (Comercial)\n",
    "                             </li>\n",
    "                             <li>\n",
    "                                   <strong>FV</strong>    Floating Village Residential (Residencial Vila Flutuante)\n",
    "                             </li> \n",
    "                             <li>\n",
    "                                   <strong>I</strong>     Industrial (Industrial)\n",
    "                             </li>\n",
    "                             <li>\n",
    "                                   <strong>RH</strong>    Residential High Density (Residencial Alta Densidade)\n",
    "                             </li>\n",
    "                             <li>\n",
    "                                   <strong>RL</strong>    Residential Low Density (Residencial Baixa densidade)\n",
    "                             </li>\n",
    "                             <li>\n",
    "                                    <strong>RP</strong>    Residential Low Density Park  (Parque residencial de baixa densidade)\n",
    "                             </li>\n",
    "                             <li>\n",
    "                                     <strong>RM</strong>    Residential Medium Density  (Residencial Média Densidade)\n",
    "                             </li>\n",
    "                     </ul>\n",
    "              </li>\n",
    "              <li>\n",
    "                     <strong>Utilities:</strong> Tipo de utilitários disponíveis\n",
    "                     <ul>\n",
    "                            <li>\n",
    "                                   <strong>AllPub</strong>    All public Utilities (E,G,W,& S) (Todos os serviços públicos (E,G,W e S))\n",
    "                             </li>\n",
    "                             <li>\n",
    "                                   <strong>NoSewr</strong>    Electricity, Gas, and Water (Septic Tank) (Eletricidade, Gás e Água (Fossa séptica))\n",
    "                             </li>\n",
    "                             <li>\n",
    "                                   <strong>NoSeWa</strong>    Electricity and Gas Only (Apenas eletricidade e gás)\n",
    "                             </li>\n",
    "                             <li>\n",
    "                                   <strong>ELO</strong>       Electricity only (Somente eletricidade)\n",
    "                             </li>\n",
    "                     </ul>\n",
    "              </li>\n",
    "              <li>\n",
    "                     <strong>BldgType:</strong> Tipo de moradia\n",
    "                     <ul>\n",
    "                            <li>\n",
    "                                   <strong>1Fam</strong>      Single-family Detached  (Desanexação unifamiliar)\n",
    "                             </li>\n",
    "                             <li>\n",
    "                                   <strong>2FmCon</strong>    Two-family Conversion; originally built as one-family dwelling (Conversão de duas famílias; originalmente construído como residência unifamiliar)\n",
    "                             </li>\n",
    "                             <li>\n",
    "                                    <strong>Duplx</strong>     Duplex (Dúplex)\n",
    "                             </li>\n",
    "                             <li>\n",
    "                                   <strong>TwnhsE</strong>    Townhouse End Unit (Unidade final da moradia)\n",
    "                             </li>\n",
    "                             <li>\n",
    "                                    <strong>TwnhsI</strong>    Townhouse Inside Unit (Townhouse dentro da unidade)\n",
    "                             </li>\n",
    "                     </ul>\n",
    "              </li>\n",
    "       </ul>\n",
    "</p>\n",
    "\n",
    "\n"
   ]
  },
  {
   "cell_type": "code",
   "execution_count": 3,
   "metadata": {},
   "outputs": [
    {
     "name": "stdout",
     "output_type": "stream",
     "text": [
      "<class 'pandas.core.frame.DataFrame'>\n",
      "RangeIndex: 1460 entries, 0 to 1459\n",
      "Data columns (total 12 columns):\n",
      " #   Column        Non-Null Count  Dtype \n",
      "---  ------        --------------  ----- \n",
      " 0   Unnamed: 0    1460 non-null   int64 \n",
      " 1   SalePrice     1460 non-null   int64 \n",
      " 2   OverallQual   1460 non-null   int64 \n",
      " 3   OverallCond   1460 non-null   int64 \n",
      " 4   BedroomAbvGr  1460 non-null   int64 \n",
      " 5   TotRmsAbvGrd  1460 non-null   int64 \n",
      " 6   GrLivArea     1460 non-null   int64 \n",
      " 7   TotalBsmtSF   1460 non-null   int64 \n",
      " 8   YearBuilt     1460 non-null   int64 \n",
      " 9   MSZoning      1460 non-null   object\n",
      " 10  Utilities     1460 non-null   object\n",
      " 11  BldgType      1460 non-null   object\n",
      "dtypes: int64(9), object(3)\n",
      "memory usage: 137.0+ KB\n"
     ]
    }
   ],
   "source": [
    "df_house_pricing.info()"
   ]
  },
  {
   "cell_type": "markdown",
   "metadata": {},
   "source": [
    "Verificando se o dataframe possui valores nulos"
   ]
  },
  {
   "cell_type": "code",
   "execution_count": 5,
   "metadata": {},
   "outputs": [
    {
     "data": {
      "text/plain": [
       "Unnamed: 0      0\n",
       "SalePrice       0\n",
       "OverallQual     0\n",
       "OverallCond     0\n",
       "BedroomAbvGr    0\n",
       "TotRmsAbvGrd    0\n",
       "GrLivArea       0\n",
       "TotalBsmtSF     0\n",
       "YearBuilt       0\n",
       "MSZoning        0\n",
       "Utilities       0\n",
       "BldgType        0\n",
       "dtype: int64"
      ]
     },
     "execution_count": 5,
     "metadata": {},
     "output_type": "execute_result"
    }
   ],
   "source": [
    "df_house_pricing.isnull().sum()"
   ]
  },
  {
   "cell_type": "markdown",
   "metadata": {},
   "source": [
    "Obtendo as medidas de tendência centrais mais usuais, Média, Mediana e Moda"
   ]
  },
  {
   "cell_type": "code",
   "execution_count": 9,
   "metadata": {},
   "outputs": [
    {
     "name": "stdout",
     "output_type": "stream",
     "text": [
      "\n",
      "Mean: 180921.20\n",
      "Median: 163000.0\n",
      "Mode: 0    140000\n",
      "Name: SalePrice, dtype: int64\n"
     ]
    }
   ],
   "source": [
    "mean = df_house_pricing[\"SalePrice\"].mean()\n",
    "median = df_house_pricing[\"SalePrice\"].median()\n",
    "mode = df_house_pricing[\"SalePrice\"].mode()\n",
    "\n",
    "print(f\"\\nMean: {mean:.2f}\\nMedian: {median}\\nMode: {mode}\")"
   ]
  },
  {
   "cell_type": "markdown",
   "metadata": {},
   "source": [
    "Analisando os valores obtidos da média, mediana e moda, podemos concluir que a média possui seu valor maior do que o valor da mediana, isso dá evidencias de que a distribuição dos dados de presificação das casas é Assimétrica Negativa, ou seja, é possível que existam poucos casas com precificação alta que deslocam a média para longe da mediana tornando a distribuição assimétrica negativa."
   ]
  },
  {
   "cell_type": "markdown",
   "metadata": {},
   "source": [
    "Podemos observar essa informação de uma forma mais visual usando um boxplot"
   ]
  },
  {
   "cell_type": "code",
   "execution_count": 15,
   "metadata": {},
   "outputs": [
    {
     "data": {
      "image/png": "[encoded data removed]",
      "text/plain": [
       "<Figure size 1200x400 with 1 Axes>"
      ]
     },
     "metadata": {},
     "output_type": "display_data"
    }
   ],
   "source": [
    "plt.figure(figsize=(12, 4))\n",
    "sns.boxplot(x=df_house_pricing.SalePrice)\n",
    "plt.show()"
   ]
  },
  {
   "cell_type": "code",
   "execution_count": 18,
   "metadata": {},
   "outputs": [
    {
     "data": {
      "text/plain": [
       "count      1460.000000\n",
       "mean     180921.195890\n",
       "std       79442.502883\n",
       "min       34900.000000\n",
       "25%      129975.000000\n",
       "50%      163000.000000\n",
       "75%      214000.000000\n",
       "max      755000.000000\n",
       "Name: SalePrice, dtype: float64"
      ]
     },
     "execution_count": 18,
     "metadata": {},
     "output_type": "execute_result"
    }
   ],
   "source": [
    "df_house_pricing[\"SalePrice\"].describe()"
   ]
  },
  {
   "cell_type": "markdown",
   "metadata": {},
   "source": [
    "A partir dos dados de tendência central e do gráfico boxplot podemos comprovar que existe outliers que influenciam na distribuição dos dados, como a média é sencível a outliers seu valor ficou distante da mediana. O boxplot permitiu observar os outliers de forma visual dando mais robustes a análise."
   ]
  }
 ],
 "metadata": {
  "kernelspec": {
   "display_name": "Python 3",
   "language": "python",
   "name": "python3"
  },
  "language_info": {
   "codemirror_mode": {
    "name": "ipython",
    "version": 3
   },
   "file_extension": ".py",
   "mimetype": "text/x-python",
   "name": "python",
   "nbconvert_exporter": "python",
   "pygments_lexer": "ipython3",
   "version": "3.10.12"
  }
 },
 "nbformat": 4,
 "nbformat_minor": 2
}
