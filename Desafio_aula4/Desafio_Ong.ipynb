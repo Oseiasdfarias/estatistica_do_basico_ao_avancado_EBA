{
 "cells": [
  {
   "cell_type": "markdown",
   "metadata": {},
   "source": [
    "# **Desafio ONG**"
   ]
  },
  {
   "cell_type": "markdown",
   "metadata": {},
   "source": [
    "Somos uma ONG de animais e queremos incentivar a adoção de pets. Para isso, vamos mostrar um vídeo de animais para as pessoas. Porém, não sabemos o que é mais efetivo: um vídeo de cachorros ou um vídeo de gatos.\n",
    "\n",
    "Por isso, resolvemos rodar um experimento: vamos criar 2 vídeos, um de cachorro e outro de gato. Depois, vamos perguntar as pessoas a probabilidade de que ela adote um animal.\n",
    "\n",
    "- As pessoas desse experimento só verão 1 vídeo cada\n",
    "- Ao final do vídeo perguntamos a elas a probabilidade de que elas adotem um animal\n",
    "- As amostras são aleatórias e sem viéses sistematicos\n",
    "\n",
    "***Objetivo: Avaliar qual animal (cachorro ou gato) deve estar em um vídeo de campanha de adoção***\n",
    "\n",
    "Experimento: 500 pessoas que não possuem animais de estimação assistem aos vídeos de campanha de adoção. Os vídeos são idênticos com exceção dos animais mostrados:\n",
    "\n",
    "- 250 pessoas aleatorizadas para o vídeo com gato\n",
    "- 250 pessoas aleatorizadas para o vídeo com cachorro\n",
    "\n",
    "***Resposta: \"Qual a chance de adotar um pet? (0-100)\" depois do vídeo***\n",
    "\n",
    "***A média de probabilidade de quem ve o vídeo de gato é igual a de cachorro?***\n"
   ]
  },
  {
   "cell_type": "code",
   "execution_count": 58,
   "metadata": {},
   "outputs": [],
   "source": [
    "import pandas as pd\n",
    "import seaborn as sns\n",
    "from matplotlib import pyplot as plt"
   ]
  },
  {
   "cell_type": "markdown",
   "metadata": {},
   "source": [
    "### **Análise descritiva do dataframe**"
   ]
  },
  {
   "cell_type": "code",
   "execution_count": 48,
   "metadata": {},
   "outputs": [
    {
     "data": {
      "text/html": [
       "<div>\n",
       "<style scoped>\n",
       "    .dataframe tbody tr th:only-of-type {\n",
       "        vertical-align: middle;\n",
       "    }\n",
       "\n",
       "    .dataframe tbody tr th {\n",
       "        vertical-align: top;\n",
       "    }\n",
       "\n",
       "    .dataframe thead th {\n",
       "        text-align: right;\n",
       "    }\n",
       "</style>\n",
       "<table border=\"1\" class=\"dataframe\">\n",
       "  <thead>\n",
       "    <tr style=\"text-align: right;\">\n",
       "      <th></th>\n",
       "      <th>Unnamed: 0</th>\n",
       "      <th>grupo</th>\n",
       "      <th>escore</th>\n",
       "    </tr>\n",
       "  </thead>\n",
       "  <tbody>\n",
       "    <tr>\n",
       "      <th>0</th>\n",
       "      <td>0</td>\n",
       "      <td>1</td>\n",
       "      <td>59.853433</td>\n",
       "    </tr>\n",
       "    <tr>\n",
       "      <th>1</th>\n",
       "      <td>1</td>\n",
       "      <td>0</td>\n",
       "      <td>66.353529</td>\n",
       "    </tr>\n",
       "    <tr>\n",
       "      <th>2</th>\n",
       "      <td>2</td>\n",
       "      <td>1</td>\n",
       "      <td>56.495813</td>\n",
       "    </tr>\n",
       "    <tr>\n",
       "      <th>3</th>\n",
       "      <td>3</td>\n",
       "      <td>0</td>\n",
       "      <td>67.995090</td>\n",
       "    </tr>\n",
       "    <tr>\n",
       "      <th>4</th>\n",
       "      <td>4</td>\n",
       "      <td>1</td>\n",
       "      <td>70.434375</td>\n",
       "    </tr>\n",
       "  </tbody>\n",
       "</table>\n",
       "</div>"
      ],
      "text/plain": [
       "   Unnamed: 0  grupo     escore\n",
       "0           0      1  59.853433\n",
       "1           1      0  66.353529\n",
       "2           2      1  56.495813\n",
       "3           3      0  67.995090\n",
       "4           4      1  70.434375"
      ]
     },
     "execution_count": 48,
     "metadata": {},
     "output_type": "execute_result"
    }
   ],
   "source": [
    "df_ong = pd.read_csv(\"./cachorro_gato.csv\")\n",
    "df_ong.head()"
   ]
  },
  {
   "cell_type": "code",
   "execution_count": 49,
   "metadata": {},
   "outputs": [
    {
     "name": "stdout",
     "output_type": "stream",
     "text": [
      "<class 'pandas.core.frame.DataFrame'>\n",
      "RangeIndex: 500 entries, 0 to 499\n",
      "Data columns (total 3 columns):\n",
      " #   Column      Non-Null Count  Dtype  \n",
      "---  ------      --------------  -----  \n",
      " 0   Unnamed: 0  500 non-null    int64  \n",
      " 1   grupo       500 non-null    int64  \n",
      " 2   escore      500 non-null    float64\n",
      "dtypes: float64(1), int64(2)\n",
      "memory usage: 11.8 KB\n"
     ]
    }
   ],
   "source": [
    "df_ong.info()"
   ]
  },
  {
   "cell_type": "code",
   "execution_count": 56,
   "metadata": {},
   "outputs": [
    {
     "data": {
      "text/html": [
       "<div>\n",
       "<style scoped>\n",
       "    .dataframe tbody tr th:only-of-type {\n",
       "        vertical-align: middle;\n",
       "    }\n",
       "\n",
       "    .dataframe tbody tr th {\n",
       "        vertical-align: top;\n",
       "    }\n",
       "\n",
       "    .dataframe thead tr th {\n",
       "        text-align: left;\n",
       "    }\n",
       "\n",
       "    .dataframe thead tr:last-of-type th {\n",
       "        text-align: right;\n",
       "    }\n",
       "</style>\n",
       "<table border=\"1\" class=\"dataframe\">\n",
       "  <thead>\n",
       "    <tr>\n",
       "      <th></th>\n",
       "      <th colspan=\"8\" halign=\"left\">Unnamed: 0</th>\n",
       "      <th colspan=\"8\" halign=\"left\">escore</th>\n",
       "    </tr>\n",
       "    <tr>\n",
       "      <th></th>\n",
       "      <th>count</th>\n",
       "      <th>mean</th>\n",
       "      <th>std</th>\n",
       "      <th>min</th>\n",
       "      <th>25%</th>\n",
       "      <th>50%</th>\n",
       "      <th>75%</th>\n",
       "      <th>max</th>\n",
       "      <th>count</th>\n",
       "      <th>mean</th>\n",
       "      <th>std</th>\n",
       "      <th>min</th>\n",
       "      <th>25%</th>\n",
       "      <th>50%</th>\n",
       "      <th>75%</th>\n",
       "      <th>max</th>\n",
       "    </tr>\n",
       "    <tr>\n",
       "      <th>grupo</th>\n",
       "      <th></th>\n",
       "      <th></th>\n",
       "      <th></th>\n",
       "      <th></th>\n",
       "      <th></th>\n",
       "      <th></th>\n",
       "      <th></th>\n",
       "      <th></th>\n",
       "      <th></th>\n",
       "      <th></th>\n",
       "      <th></th>\n",
       "      <th></th>\n",
       "      <th></th>\n",
       "      <th></th>\n",
       "      <th></th>\n",
       "      <th></th>\n",
       "    </tr>\n",
       "  </thead>\n",
       "  <tbody>\n",
       "    <tr>\n",
       "      <th>0</th>\n",
       "      <td>253.0</td>\n",
       "      <td>247.470356</td>\n",
       "      <td>147.772334</td>\n",
       "      <td>1.0</td>\n",
       "      <td>117.0</td>\n",
       "      <td>256.0</td>\n",
       "      <td>366.0</td>\n",
       "      <td>499.0</td>\n",
       "      <td>253.0</td>\n",
       "      <td>55.531922</td>\n",
       "      <td>14.665402</td>\n",
       "      <td>16.304739</td>\n",
       "      <td>44.488055</td>\n",
       "      <td>55.802372</td>\n",
       "      <td>66.249013</td>\n",
       "      <td>95.309459</td>\n",
       "    </tr>\n",
       "    <tr>\n",
       "      <th>1</th>\n",
       "      <td>247.0</td>\n",
       "      <td>251.578947</td>\n",
       "      <td>141.301675</td>\n",
       "      <td>0.0</td>\n",
       "      <td>131.5</td>\n",
       "      <td>240.0</td>\n",
       "      <td>377.5</td>\n",
       "      <td>497.0</td>\n",
       "      <td>247.0</td>\n",
       "      <td>56.744495</td>\n",
       "      <td>14.913287</td>\n",
       "      <td>14.654955</td>\n",
       "      <td>48.682432</td>\n",
       "      <td>56.924405</td>\n",
       "      <td>66.817326</td>\n",
       "      <td>93.259671</td>\n",
       "    </tr>\n",
       "  </tbody>\n",
       "</table>\n",
       "</div>"
      ],
      "text/plain": [
       "      Unnamed: 0                                                            \n",
       "           count        mean         std  min    25%    50%    75%    max   \n",
       "grupo                                                                       \n",
       "0          253.0  247.470356  147.772334  1.0  117.0  256.0  366.0  499.0  \\\n",
       "1          247.0  251.578947  141.301675  0.0  131.5  240.0  377.5  497.0   \n",
       "\n",
       "      escore                                                          \n",
       "       count       mean        std        min        25%        50%   \n",
       "grupo                                                                 \n",
       "0      253.0  55.531922  14.665402  16.304739  44.488055  55.802372  \\\n",
       "1      247.0  56.744495  14.913287  14.654955  48.682432  56.924405   \n",
       "\n",
       "                             \n",
       "             75%        max  \n",
       "grupo                        \n",
       "0      66.249013  95.309459  \n",
       "1      66.817326  93.259671  "
      ]
     },
     "execution_count": 56,
     "metadata": {},
     "output_type": "execute_result"
    }
   ],
   "source": [
    "df_ong.groupby('grupo').describe()"
   ]
  },
  {
   "cell_type": "code",
   "execution_count": 62,
   "metadata": {},
   "outputs": [
    {
     "data": {
      "image/png": "[encoded data removed]",
      "text/plain": [
       "<Figure size 640x480 with 1 Axes>"
      ]
     },
     "metadata": {},
     "output_type": "display_data"
    }
   ],
   "source": [
    "\n",
    "# histograma grupo que viu o video de Cachorro\n",
    "sns.histplot(df_ong[df_ong['grupo'] == 0]['escore'], label = 'Cachorro', color = \"red\")\n",
    "\n",
    "# histograma grupo que viu o video de Gato\n",
    "sns.histplot(df_ong[df_ong['grupo'] == 1]['escore'], label = 'Gato', color=\"blue\")\n",
    "plt.xlabel('Escore (0 a 100)')\n",
    "plt.legend()\n",
    "plt.show()"
   ]
  },
  {
   "cell_type": "markdown",
   "metadata": {},
   "source": [
    "#### ***Resposta: \"Qual a chance de adotar um pet? (0-100)\" depois do vídeo***\n",
    "\n",
    "Para calcular a média do percentual de chances de uma pessoa adotar um pet, basta somar todos os valores dos escores, que variam de 0 a 100, e dividir pelo número total de participantes do estudo."
   ]
  },
  {
   "cell_type": "code",
   "execution_count": 50,
   "metadata": {},
   "outputs": [
    {
     "name": "stdout",
     "output_type": "stream",
     "text": [
      "\n",
      "\u001b[1m Chances de adotar um pet pós vídeo é de 56.13%\u001b[0m\n",
      "\n"
     ]
    }
   ],
   "source": [
    "media_adocao = df_ong.escore.sum()/df_ong.escore.count()\n",
    "print(f\"\\n\\033[1m Chances de adotar um pet pós vídeo é de {media_adocao:.2f}%\\033[0m\\n\")"
   ]
  },
  {
   "cell_type": "markdown",
   "metadata": {},
   "source": [
    "\n",
    "\n",
    "## **Teste t-student independentes para duas amostras**"
   ]
  },
  {
   "cell_type": "markdown",
   "metadata": {},
   "source": [
    "#### ***A média de probabilidade de quem ve o vídeo de gato é igual a de cachorro?***"
   ]
  },
  {
   "cell_type": "markdown",
   "metadata": {},
   "source": [
    "Passos para realizar o teste de Hipótese:\n",
    "\n",
    "- ***1. Definir as Hipóteses***\n",
    "  - **Hipótese Nula [H0]:** Não há diferença entre as médias de probabilidade de adoção de gatos e cachorros.\n",
    "  - **Hipótese Alternativa [Ha]:** Há uma diferença de probabilidade de adoção de gatos e cachorros\n",
    "\n",
    "- ***2. Definir o nivel de significanca***\n",
    "  - Como não foi dado, vamos adotar o nível de significância de 5%, ou 0.05.\n",
    "\n",
    "- ***3. Definir qual teste usar:***\n",
    "\n",
    "O teste adequado para este experimento é o teste t com 2 amostras, pois:\n",
    "\n",
    "- \n",
    "  - Estamos querendo comparar a média de probabilidade entre duas amostras independentes\n",
    "  - O desvio-padrão populacional é desconhecido, logo vamos usar o teste t para desvio-padrão desconhecido.\n",
    "\n",
    "- ***4. Calcular a estatistica de teste***\n",
    "\n",
    "$$t = \\dfrac{(\\bar{\\text{x}}_1 - \\bar{\\text{x}}_2)-(\\mu_1 - \\mu_2)}{\\sqrt{\\dfrac{s_1^2}{n_1} + \\dfrac{s_2^2}{n_2}}}$$\n",
    "\n",
    "- ***5. Encontrar o valor crítico ou p-valor***\n",
    "  Para concontrar o p-valor vamos usar o Python que já possui uma biblioteca que nos permite obter esse valor passando as amostras como parâmetro da função.\n",
    "\n"
   ]
  },
  {
   "cell_type": "markdown",
   "metadata": {},
   "source": [
    "#### Realizando o pré-processamento dos dados\n"
   ]
  },
  {
   "cell_type": "code",
   "execution_count": 51,
   "metadata": {},
   "outputs": [
    {
     "data": {
      "text/html": [
       "<div>\n",
       "<style scoped>\n",
       "    .dataframe tbody tr th:only-of-type {\n",
       "        vertical-align: middle;\n",
       "    }\n",
       "\n",
       "    .dataframe tbody tr th {\n",
       "        vertical-align: top;\n",
       "    }\n",
       "\n",
       "    .dataframe thead th {\n",
       "        text-align: right;\n",
       "    }\n",
       "</style>\n",
       "<table border=\"1\" class=\"dataframe\">\n",
       "  <thead>\n",
       "    <tr style=\"text-align: right;\">\n",
       "      <th></th>\n",
       "      <th>Unnamed: 0</th>\n",
       "      <th>grupo</th>\n",
       "      <th>escore</th>\n",
       "    </tr>\n",
       "  </thead>\n",
       "  <tbody>\n",
       "    <tr>\n",
       "      <th>0</th>\n",
       "      <td>0</td>\n",
       "      <td>1</td>\n",
       "      <td>59.853433</td>\n",
       "    </tr>\n",
       "    <tr>\n",
       "      <th>1</th>\n",
       "      <td>1</td>\n",
       "      <td>0</td>\n",
       "      <td>66.353529</td>\n",
       "    </tr>\n",
       "    <tr>\n",
       "      <th>2</th>\n",
       "      <td>2</td>\n",
       "      <td>1</td>\n",
       "      <td>56.495813</td>\n",
       "    </tr>\n",
       "    <tr>\n",
       "      <th>3</th>\n",
       "      <td>3</td>\n",
       "      <td>0</td>\n",
       "      <td>67.995090</td>\n",
       "    </tr>\n",
       "    <tr>\n",
       "      <th>4</th>\n",
       "      <td>4</td>\n",
       "      <td>1</td>\n",
       "      <td>70.434375</td>\n",
       "    </tr>\n",
       "  </tbody>\n",
       "</table>\n",
       "</div>"
      ],
      "text/plain": [
       "   Unnamed: 0  grupo     escore\n",
       "0           0      1  59.853433\n",
       "1           1      0  66.353529\n",
       "2           2      1  56.495813\n",
       "3           3      0  67.995090\n",
       "4           4      1  70.434375"
      ]
     },
     "execution_count": 51,
     "metadata": {},
     "output_type": "execute_result"
    }
   ],
   "source": [
    "df_ong.head()"
   ]
  },
  {
   "cell_type": "code",
   "execution_count": 52,
   "metadata": {},
   "outputs": [
    {
     "data": {
      "text/plain": [
       "1      66.353529\n",
       "3      67.995090\n",
       "8      55.397542\n",
       "10     58.049811\n",
       "11     71.056544\n",
       "         ...    \n",
       "494    35.638201\n",
       "495    70.292458\n",
       "496    74.674293\n",
       "498    58.625388\n",
       "499    38.126324\n",
       "Name: escore, Length: 253, dtype: float64"
      ]
     },
     "execution_count": 52,
     "metadata": {},
     "output_type": "execute_result"
    }
   ],
   "source": [
    "df_cachorros = (df_ong[df_ong[\"grupo\"] == 0]).escore\n",
    "df_cachorros"
   ]
  },
  {
   "cell_type": "code",
   "execution_count": 53,
   "metadata": {},
   "outputs": [
    {
     "data": {
      "text/plain": [
       "0      59.853433\n",
       "2      56.495813\n",
       "4      70.434375\n",
       "5      22.516684\n",
       "6      42.900630\n",
       "         ...    \n",
       "481    51.206188\n",
       "485    63.329365\n",
       "488    41.419790\n",
       "489    63.994828\n",
       "497    43.148814\n",
       "Name: escore, Length: 247, dtype: float64"
      ]
     },
     "execution_count": 53,
     "metadata": {},
     "output_type": "execute_result"
    }
   ],
   "source": [
    "df_gatos = (df_ong[df_ong[\"grupo\"] == 1]).escore\n",
    "df_gatos"
   ]
  },
  {
   "cell_type": "code",
   "execution_count": 54,
   "metadata": {},
   "outputs": [
    {
     "name": "stdout",
     "output_type": "stream",
     "text": [
      "\n",
      "t-student: -0.9165\n",
      "p-valor: 0.3599\n",
      "\n"
     ]
    }
   ],
   "source": [
    "from scipy.stats import ttest_ind\n",
    "\n",
    "t, p_valor = ttest_ind(a=df_cachorros, b=df_gatos, equal_var=False)\n",
    "\n",
    "print(f\"\\nt-student: {t:.4f}\")\n",
    "print(f\"p-valor: {p_valor:.4f}\\n\")"
   ]
  },
  {
   "cell_type": "markdown",
   "metadata": {},
   "source": [
    "- ***Tomada de decisão***\n",
    "\n",
    "P-valor maior que alpha 0,05. Portanto, não rejeita-se a hipótese nula. Logo, não existe evidências suficiente, ao nível de significancia de 5%, para confirmar a afirmação de que as duas amostras com videos de cões e gatos tem aceitações diferentes."
   ]
  }
 ],
 "metadata": {
  "kernelspec": {
   "display_name": "Python 3",
   "language": "python",
   "name": "python3"
  },
  "language_info": {
   "codemirror_mode": {
    "name": "ipython",
    "version": 3
   },
   "file_extension": ".py",
   "mimetype": "text/x-python",
   "name": "python",
   "nbconvert_exporter": "python",
   "pygments_lexer": "ipython3",
   "version": "3.10.12"
  }
 },
 "nbformat": 4,
 "nbformat_minor": 2
}
